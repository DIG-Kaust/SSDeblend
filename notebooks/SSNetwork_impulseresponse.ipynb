{
 "cells": [
  {
   "cell_type": "markdown",
   "id": "6d0d9db2",
   "metadata": {},
   "source": [
    "# Self-supervised denoiser impulse response\n",
    "\n",
    "**Authors: Nick Luiken, Matteo Ravasi - KAUST**"
   ]
  },
  {
   "cell_type": "markdown",
   "id": "a0969d84",
   "metadata": {},
   "source": [
    "In this notebook, we display the impulse response (aka receptive field) of both the original blind-spot denoiser of [Laine et al.](https://arxiv.org/abs/1901.10277) and our modified version for structured noise.\n",
    "\n",
    "In order to obtain the impulse response we feed an zero image with a single unitary pixel in the middle in the blind-spot networks with constant weights and zero biases."
   ]
  },
  {
   "cell_type": "code",
   "execution_count": 1,
   "id": "e72a617c",
   "metadata": {},
   "outputs": [],
   "source": [
    "%load_ext autoreload\n",
    "%autoreload 2\n",
    "%matplotlib inline\n",
    "\n",
    "import numpy as np\n",
    "import matplotlib.pyplot as plt\n",
    "import torch\n",
    "import torch.nn as nn\n",
    "\n",
    "from ssdeblend.model.ssdenoise import NoiseNetwork\n",
    "from ssdeblend.model.ssstructdenoise import NoiseNetwork as StructNoiseNetwork\n",
    "from ssdeblend.model.utils import display_receptive"
   ]
  },
  {
   "cell_type": "markdown",
   "id": "4b335354",
   "metadata": {},
   "source": [
    "Let's set the device to use our GPU of choice"
   ]
  },
  {
   "cell_type": "code",
   "execution_count": 2,
   "id": "6ddc72a6",
   "metadata": {},
   "outputs": [
    {
     "name": "stdout",
     "output_type": "stream",
     "text": [
      "NVIDIA GeForce RTX 3090\n"
     ]
    }
   ],
   "source": [
    "device = 'cuda:0'\n",
    "print(torch.cuda.get_device_name(device))"
   ]
  },
  {
   "cell_type": "markdown",
   "id": "4829dc9d",
   "metadata": {},
   "source": [
    "## Blind-spot network for random noise"
   ]
  },
  {
   "cell_type": "markdown",
   "id": "3205905c",
   "metadata": {},
   "source": [
    "Let's first create the network"
   ]
  },
  {
   "cell_type": "code",
   "execution_count": 3,
   "id": "ca07a528",
   "metadata": {
    "scrolled": false
   },
   "outputs": [],
   "source": [
    "network = NoiseNetwork(1, 1, blindspot=True).to(device)"
   ]
  },
  {
   "cell_type": "markdown",
   "id": "b3adca93",
   "metadata": {},
   "source": [
    "And now we can display its receptive field"
   ]
  },
  {
   "cell_type": "code",
   "execution_count": 4,
   "id": "efce4dfb",
   "metadata": {},
   "outputs": [
    {
     "data": {
      "image/png": "[encoded data removed]",
      "text/plain": [
       "<Figure size 432x288 with 1 Axes>"
      ]
     },
     "metadata": {
      "needs_background": "light"
     },
     "output_type": "display_data"
    }
   ],
   "source": [
    "n=32\n",
    "network_rec, out = display_receptive(network, n, weight_fill=1e-3, device=device)\n",
    "\n",
    "plt.figure()\n",
    "plt.imshow(out.detach().cpu().squeeze(), cmap='Greens', vmin=0, vmax=out.detach().cpu().max())\n",
    "plt.scatter(n//2, n//2, c='#FFA500', s=50, marker='s')\n",
    "plt.xlim(n//2-8,n//2+8)\n",
    "plt.ylim(n//2+8,n//2-8)\n",
    "plt.axis('off');"
   ]
  },
  {
   "cell_type": "markdown",
   "id": "2360a4d7",
   "metadata": {},
   "source": [
    "## Blind-spot network for coherent noise"
   ]
  },
  {
   "cell_type": "markdown",
   "id": "7276a8c8",
   "metadata": {},
   "source": [
    "We can now do the same for our new network"
   ]
  },
  {
   "cell_type": "code",
   "execution_count": 5,
   "id": "e6222ed9",
   "metadata": {},
   "outputs": [],
   "source": [
    "network = StructNoiseNetwork(1, 1, blindspot=True).to(device)"
   ]
  },
  {
   "cell_type": "code",
   "execution_count": 6,
   "id": "1264100e",
   "metadata": {},
   "outputs": [
    {
     "data": {
      "image/png": "[encoded data removed]",
      "text/plain": [
       "<Figure size 432x288 with 1 Axes>"
      ]
     },
     "metadata": {
      "needs_background": "light"
     },
     "output_type": "display_data"
    }
   ],
   "source": [
    "n=32\n",
    "network_rec, out = display_receptive(network, n, weight_fill=1e-3, device=device)\n",
    "\n",
    "plt.figure()\n",
    "plt.imshow(out.detach().cpu().squeeze(), cmap='Greens', vmin=0, vmax=out.detach().cpu().max())\n",
    "plt.scatter(n//2, n//2, c='#FFA500', s=50, marker='s')\n",
    "plt.xlim(n//2-8,n//2+8)\n",
    "plt.ylim(n//2+8,n//2-8)\n",
    "plt.axis('off');"
   ]
  },
  {
   "cell_type": "markdown",
   "id": "2561ef93",
   "metadata": {},
   "source": [
    "Nice! By modifying the way we handle the input image (only one flip over the y-axis instead of 4 rotations), our network is now blind not only to the central pixels but to the entire middle row in the x-axis."
   ]
  }
 ],
 "metadata": {
  "kernelspec": {
   "display_name": "Python 3 (ipykernel)",
   "language": "python",
   "name": "python3"
  },
  "language_info": {
   "codemirror_mode": {
    "name": "ipython",
    "version": 3
   },
   "file_extension": ".py",
   "mimetype": "text/x-python",
   "name": "python",
   "nbconvert_exporter": "python",
   "pygments_lexer": "ipython3",
   "version": "3.9.12"
  },
  "toc": {
   "base_numbering": 1,
   "nav_menu": {},
   "number_sections": true,
   "sideBar": true,
   "skip_h1_title": false,
   "title_cell": "Table of Contents",
   "title_sidebar": "Contents",
   "toc_cell": false,
   "toc_position": {
    "height": "calc(100% - 180px)",
    "left": "10px",
    "top": "150px",
    "width": "613.253px"
   },
   "toc_section_display": true,
   "toc_window_display": true
  }
 },
 "nbformat": 4,
 "nbformat_minor": 5
}
